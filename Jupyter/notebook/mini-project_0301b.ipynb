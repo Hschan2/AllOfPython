{
 "cells": [
  {
   "cell_type": "markdown",
   "metadata": {},
   "source": [
    "#### 고유한 이름을 찾는 함수 FIND_UNIQUE를 코딩하시오."
   ]
  },
  {
   "cell_type": "markdown",
   "metadata": {},
   "source": [
    "알고리즘 순서: <br>\n",
    "1. 출력 리스트는 입력 리스트의 첫번째 이름으로 초기화 한다.\n",
    "2. 입력 리스트에서 이름을 하나씩 순차적으로 뽑아낸다.\n",
    "3. 지금 뽑은 이름을 순서상 앞쪽에 있는 이름들과 비교한다.\n",
    "4. 동명이인이 없으면 그 이름을 출력 리스트에 추가한다"
   ]
  },
  {
   "cell_type": "code",
   "execution_count": 1,
   "metadata": {},
   "outputs": [],
   "source": [
    "def FIND_UNIQUE(x):\n",
    "#\n",
    "#   ??????\n",
    "#"
   ]
  },
  {
   "cell_type": "code",
   "execution_count": 2,
   "metadata": {},
   "outputs": [],
   "source": [
    "a = ['Tom', 'Jerry', 'Mike','Sara','Tom','Sara', 'John','Sara','Mike','Mike','Mike']"
   ]
  },
  {
   "cell_type": "code",
   "execution_count": 3,
   "metadata": {},
   "outputs": [
    {
     "data": {
      "text/plain": [
       "['Tom', 'Jerry', 'Mike', 'Sara', 'John']"
      ]
     },
     "execution_count": 3,
     "metadata": {},
     "output_type": "execute_result"
    }
   ],
   "source": [
    "FIND_UNIQUE(a)"
   ]
  }
 ],
 "metadata": {
  "kernelspec": {
   "display_name": "Python 3",
   "language": "python",
   "name": "python3"
  },
  "language_info": {
   "codemirror_mode": {
    "name": "ipython",
    "version": 3
   },
   "file_extension": ".py",
   "mimetype": "text/x-python",
   "name": "python",
   "nbconvert_exporter": "python",
   "pygments_lexer": "ipython3",
   "version": "3.6.5"
  }
 },
 "nbformat": 4,
 "nbformat_minor": 2
}
