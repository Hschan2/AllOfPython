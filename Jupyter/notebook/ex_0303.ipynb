{
 "cells": [
  {
   "cell_type": "markdown",
   "metadata": {},
   "source": [
    "### 딕셔너리 자료구조 활용."
   ]
  },
  {
   "cell_type": "markdown",
   "metadata": {},
   "source": [
    "#### 딕셔너리의 Key는 Immutable한 자료형 이어야 한다."
   ]
  },
  {
   "cell_type": "code",
   "execution_count": null,
   "metadata": {},
   "outputs": [],
   "source": [
    "d = {1: \"a\", 2: \"b\", 3:\"c\"}        # OK.\n",
    "print(d[2])"
   ]
  },
  {
   "cell_type": "code",
   "execution_count": null,
   "metadata": {},
   "outputs": [],
   "source": [
    "d = { (1,2): \"a\",  (3,4): \"b\" }    # Tuple은 immutable 이므로 OK.\n",
    "print(d[(1,2)])"
   ]
  },
  {
   "cell_type": "code",
   "execution_count": null,
   "metadata": {},
   "outputs": [],
   "source": [
    "d = {True: 2, \"a\": 3}             # OK.\n",
    "print(d[True] + d[\"a\"])"
   ]
  },
  {
   "cell_type": "code",
   "execution_count": null,
   "metadata": {},
   "outputs": [],
   "source": [
    "# 다음의 경우에는 오류 발생.\n",
    "d = { [1,2]: \"a\",  [3,4]: \"b\" }               "
   ]
  },
  {
   "cell_type": "code",
   "execution_count": null,
   "metadata": {},
   "outputs": [],
   "source": [
    "# 다음의 경우에는 오류 발생.\n",
    "d = { {1: \"x\"}: \"a\", 2: \"b\", 3:\"c\"}        "
   ]
  },
  {
   "cell_type": "markdown",
   "metadata": {},
   "source": [
    "#### 딕셔너리를 활용한 도수표 정리."
   ]
  },
  {
   "cell_type": "code",
   "execution_count": null,
   "metadata": {},
   "outputs": [],
   "source": [
    "from random import randrange, seed      "
   ]
  },
  {
   "cell_type": "code",
   "execution_count": null,
   "metadata": {},
   "outputs": [],
   "source": [
    "# 자료를 랜덤으로 생성한다.\n",
    "seed(1234)\n",
    "n = 1000000\n",
    "my_data = []                          # 빈 리스트 생성.\n",
    "for _ in range(n):\n",
    "    my_data += [randrange(10) + 1]    # 1~10 사이의 랜덤넘버를 생성해서 리스트에 추가한다."
   ]
  },
  {
   "cell_type": "code",
   "execution_count": null,
   "metadata": {},
   "outputs": [],
   "source": [
    "# 자료를 도수표로 정리한다.\n",
    "frequency_table = {}                   # 빈 딕셔너리 생성.\n",
    "for x in my_data:\n",
    "    if x in frequency_table:           # 이미 기록된 key 이면,\n",
    "        frequency_table[x] += 1        # 도수 1 증가.\n",
    "    else:                              # 처음 발견된 key 이면, \n",
    "        frequency_table[x] = 1         # 도수를 1로 초기화."
   ]
  },
  {
   "cell_type": "code",
   "execution_count": null,
   "metadata": {},
   "outputs": [],
   "source": [
    "# Key가 처음 발견된 순서대로 입력되어 있어서 정렬된 상태는 아니다.\n",
    "print(frequency_table)"
   ]
  },
  {
   "cell_type": "code",
   "execution_count": null,
   "metadata": {},
   "outputs": [],
   "source": [
    "# Key를 정렬해서 도수 딕셔너리를 출력한다.\n",
    "keys = frequency_table.keys()\n",
    "keys = sorted(keys)                           # Key를 정렬한다.\n",
    "\n",
    "for a_key in keys:\n",
    "    print(f\" {a_key} : {frequency_table[a_key]} \")"
   ]
  },
  {
   "cell_type": "code",
   "execution_count": null,
   "metadata": {},
   "outputs": [],
   "source": []
  }
 ],
 "metadata": {
  "kernelspec": {
   "display_name": "Python 3",
   "language": "python",
   "name": "python3"
  },
  "language_info": {
   "codemirror_mode": {
    "name": "ipython",
    "version": 3
   },
   "file_extension": ".py",
   "mimetype": "text/x-python",
   "name": "python",
   "nbconvert_exporter": "python",
   "pygments_lexer": "ipython3",
   "version": "3.8.5"
  }
 },
 "nbformat": 4,
 "nbformat_minor": 4
}
