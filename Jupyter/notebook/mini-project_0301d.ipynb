{
 "cells": [
  {
   "cell_type": "markdown",
   "metadata": {},
   "source": [
    "#### 이진 탐색을 활용한 숫자 맞추기 게임."
   ]
  },
  {
   "cell_type": "markdown",
   "metadata": {},
   "source": [
    "다음과 같은 규칙의 게임을 만들어 본다:\n",
    "\n",
    "1. \"숫자를 생각해 보세요.\"라는 메세지를 컴퓨터가 출력하면, 사용자는 1에서 99까지의 임의의 정수를 생각해 둔다.  \n",
    "2. 컴퓨터가 \"생각해 둔 숫자를 X와 비교하면? (0=더 작음, 1=일치, 2=더 큼)\"라는 물음을 할때 사용자는 0, 1 또는 2를 정직하게 입력한다. \n",
    "3. 이진 탐색 알고리즘을 적용해서 탐색 구간을 좁힌다.\n",
    "3. 컴퓨터가 사용자가 생각한 숫자를 알아맞출 때 까지 2번 과정부터 반복한다."
   ]
  },
  {
   "cell_type": "code",
   "execution_count": 2,
   "metadata": {},
   "outputs": [
    {
     "name": "stdout",
     "output_type": "stream",
     "text": [
      "1에서 99 사이의 숫자를 생각해 보세요.\n",
      "=> 생각해 둔 숫자를 50와 비교하면? (0=더 작음, 1=일치, 2=더 큼):2\n",
      "=> 생각해 둔 숫자를 75와 비교하면? (0=더 작음, 1=일치, 2=더 큼):2\n",
      "=> 생각해 둔 숫자를 87와 비교하면? (0=더 작음, 1=일치, 2=더 큼):0\n",
      "=> 생각해 둔 숫자를 81와 비교하면? (0=더 작음, 1=일치, 2=더 큼):0\n",
      "=> 생각해 둔 숫자를 78와 비교하면? (0=더 작음, 1=일치, 2=더 큼):0\n",
      "=> 생각해 둔 숫자를 76와 비교하면? (0=더 작음, 1=일치, 2=더 큼):2\n",
      "=> 생각해 둔 숫자를 77와 비교하면? (0=더 작음, 1=일치, 2=더 큼):1\n",
      "발견!\n"
     ]
    }
   ],
   "source": [
    "print(\"1에서 99 사이의 숫자를 생각해 보세요.\")\n",
    "#\n",
    "#\n",
    "#  본인의 코드를 작성하세요.\n",
    "#\n",
    "#"
   ]
  }
 ],
 "metadata": {
  "kernelspec": {
   "display_name": "Python 3",
   "language": "python",
   "name": "python3"
  },
  "language_info": {
   "codemirror_mode": {
    "name": "ipython",
    "version": 3
   },
   "file_extension": ".py",
   "mimetype": "text/x-python",
   "name": "python",
   "nbconvert_exporter": "python",
   "pygments_lexer": "ipython3",
   "version": "3.6.5"
  }
 },
 "nbformat": 4,
 "nbformat_minor": 2
}
