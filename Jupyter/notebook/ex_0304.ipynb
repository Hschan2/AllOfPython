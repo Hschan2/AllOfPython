{
 "cells": [
  {
   "cell_type": "markdown",
   "metadata": {},
   "source": [
    "### 이진검색 (Binary Search) 알고리즘."
   ]
  },
  {
   "cell_type": "code",
   "execution_count": null,
   "metadata": {},
   "outputs": [],
   "source": [
    "# 오름차순으로 정렬된 자료 리스트 arr와 찾는 값 x를 입력하면,\n",
    "# 검색이 성공하면 값의 위치를 출력한다.\n",
    "# 검색이 실패하면 -1을 출력한다.\n",
    "\n",
    "def binary_search(arr, x):\n",
    "    # 탐색할 범위를 정하는 변수 left 와 right.\n",
    "    left = 0                       \n",
    "    right = len(arr) - 1\n",
    "    while left <= right:             # 탐색을 계속하는 조건 확인.\n",
    "        middle = (left + right)//2   # 정수로 나누기로 중앙위치 계산.\n",
    "        if x == arr[middle]:         # 성공!\n",
    "            return middle\n",
    "        elif x > arr[middle]:        # 검색 범위를 좁힌다.\n",
    "            left = middle + 1\n",
    "        else:                        # 검색 범위를 좁힌다.\n",
    "            right = middle - 1\n",
    "    return -1                        # 실패!"
   ]
  },
  {
   "cell_type": "code",
   "execution_count": null,
   "metadata": {},
   "outputs": [],
   "source": [
    "my_sorted_data = [9, 18, 21, 23, 29, 35, 77, 99, 123]"
   ]
  },
  {
   "cell_type": "code",
   "execution_count": null,
   "metadata": {},
   "outputs": [],
   "source": [
    "binary_search(my_sorted_data,35)"
   ]
  },
  {
   "cell_type": "code",
   "execution_count": null,
   "metadata": {},
   "outputs": [],
   "source": [
    "binary_search(my_sorted_data,21)"
   ]
  },
  {
   "cell_type": "code",
   "execution_count": null,
   "metadata": {},
   "outputs": [],
   "source": [
    "binary_search(my_sorted_data,76)"
   ]
  },
  {
   "cell_type": "code",
   "execution_count": null,
   "metadata": {},
   "outputs": [],
   "source": []
  }
 ],
 "metadata": {
  "kernelspec": {
   "display_name": "Python 3",
   "language": "python",
   "name": "python3"
  },
  "language_info": {
   "codemirror_mode": {
    "name": "ipython",
    "version": 3
   },
   "file_extension": ".py",
   "mimetype": "text/x-python",
   "name": "python",
   "nbconvert_exporter": "python",
   "pygments_lexer": "ipython3",
   "version": "3.8.5"
  }
 },
 "nbformat": 4,
 "nbformat_minor": 4
}
