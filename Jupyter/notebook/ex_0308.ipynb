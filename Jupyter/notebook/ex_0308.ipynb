{
 "cells": [
  {
   "cell_type": "markdown",
   "metadata": {},
   "source": [
    "### Fibonacci 수열과 Memoization."
   ]
  },
  {
   "cell_type": "code",
   "execution_count": null,
   "metadata": {},
   "outputs": [],
   "source": [
    "import time"
   ]
  },
  {
   "cell_type": "markdown",
   "metadata": {},
   "source": [
    "#### 재귀 호출 방법만 사용."
   ]
  },
  {
   "cell_type": "code",
   "execution_count": null,
   "metadata": {},
   "outputs": [],
   "source": [
    "# 재귀 호출 방법으로 계산 함수.\n",
    "def fibonacci_recursive(n):\n",
    "    if n <= 1:                           # F(0) = 0 이며 F(1) = 1 이다.\n",
    "        return n\n",
    "    else:\n",
    "        return(fibonacci_recursive(n-1) + fibonacci_recursive(n-2))    # F(n) = F(n-1) + F(n-2). 재귀호출."
   ]
  },
  {
   "cell_type": "code",
   "execution_count": null,
   "metadata": {},
   "outputs": [],
   "source": [
    "# 재귀 호출 방법으로 계산에 소요된 시간을 측정해 본다.\n",
    "for n in range(0, 36, 5):\n",
    "    start_time = time.time()\n",
    "    res = fibonacci_recursive(n)\n",
    "    end_time = time.time()\n",
    "    print(\"F({}) = {}, Time = {:.2f}\".format(n, res, end_time-start_time))"
   ]
  },
  {
   "cell_type": "markdown",
   "metadata": {},
   "source": [
    "#### Memoization 적용."
   ]
  },
  {
   "cell_type": "code",
   "execution_count": null,
   "metadata": {},
   "outputs": [],
   "source": [
    "# Memoization 적용된 계산 함수.\n",
    "cache = {}                  # Cache 메모리.\n",
    "def fibonacci_memo(n):\n",
    "    if n in cache:\n",
    "        return cache[n]\n",
    "    else:\n",
    "        if n <= 1:                                                 # F(0) = 0 이며 F(1) = 1 이다.\n",
    "            cache[n] = n\n",
    "        else: \n",
    "            cache[n] = fibonacci_memo(n-1) + fibonacci_memo(n-2)  # F(n) = F(n-1) + F(n-2). 재귀호출.\n",
    "        return cache[n]"
   ]
  },
  {
   "cell_type": "code",
   "execution_count": null,
   "metadata": {},
   "outputs": [],
   "source": [
    "# Memoization 방법으로 계산에 소요된 시간을 측정해 본다.\n",
    "# 이전 방법보다 빠르다! \n",
    "for n in range(0, 36, 5):\n",
    "    start_time = time.time()\n",
    "    res = fibonacci_memo(n)\n",
    "    end_time = time.time()\n",
    "    print(\"F({}) = {}, Time = {:.2f}\".format(n, res, end_time-start_time))"
   ]
  },
  {
   "cell_type": "markdown",
   "metadata": {},
   "source": [
    "#### Decorator 함수의 이해."
   ]
  },
  {
   "cell_type": "code",
   "execution_count": null,
   "metadata": {},
   "outputs": [],
   "source": [
    "# 기존의 코드를 건드리지 않고, wrapper 함수를 통해서 새로운 기능의 추가가 가능하다!\n",
    "def decorator_function(f):\n",
    "    def wrapper_function():\n",
    "        print('{} 함수 실행 전 입니다.'.format(f.__name__))\n",
    "        return f()\n",
    "    return wrapper_function\n",
    "\n",
    "@decorator_function  \n",
    "def MyFunc():\n",
    "    print(\"이제 Myfunc 함수가 실행 되었습니다.\")"
   ]
  },
  {
   "cell_type": "code",
   "execution_count": null,
   "metadata": {},
   "outputs": [],
   "source": [
    "MyFunc()"
   ]
  },
  {
   "cell_type": "markdown",
   "metadata": {},
   "source": [
    "#### Decorator로 Memoization 적용."
   ]
  },
  {
   "cell_type": "code",
   "execution_count": null,
   "metadata": {},
   "outputs": [],
   "source": [
    "def decorator_memoize(f):\n",
    "    cache = {}\n",
    "    def wrapper_function(n):\n",
    "        if n in cache:                  # 이미 기록되어 있으면, cache에서 가져온다.\n",
    "            return cache[n]                 \n",
    "        else:\n",
    "            cache[n] = f(n)            # 아니면 새롭게 계산하세, cache에 기록한다.\n",
    "            return cache[n]\n",
    "        \n",
    "    return wrapper_function"
   ]
  },
  {
   "cell_type": "code",
   "execution_count": null,
   "metadata": {},
   "outputs": [],
   "source": [
    "# 사실상 재귀 호출 함수인 것을 decorate 한다.\n",
    "@decorator_memoize\n",
    "def fibonacci(n):\n",
    "    if n <= 1:                                      # F(0) = 0 이며 F(1) = 1 이다.\n",
    "        return n\n",
    "    else:\n",
    "        return(fibonacci(n-1) + fibonacci(n-2))    # F(n) = F(n-1) + F(n-2). 재귀호출."
   ]
  },
  {
   "cell_type": "code",
   "execution_count": null,
   "metadata": {},
   "outputs": [],
   "source": [
    "# Decorate된 함수로 계산에 소요된 시간을 측정해 본다. => 빠르다.\n",
    "for n in range(0, 36, 5):\n",
    "    start_time = time.time()\n",
    "    res = fibonacci(n)\n",
    "    end_time = time.time()\n",
    "    print(\"F({}) = {}, Time = {:.2f}\".format(n, res, end_time-start_time))"
   ]
  },
  {
   "cell_type": "code",
   "execution_count": null,
   "metadata": {},
   "outputs": [],
   "source": []
  }
 ],
 "metadata": {
  "kernelspec": {
   "display_name": "Python 3",
   "language": "python",
   "name": "python3"
  },
  "language_info": {
   "codemirror_mode": {
    "name": "ipython",
    "version": 3
   },
   "file_extension": ".py",
   "mimetype": "text/x-python",
   "name": "python",
   "nbconvert_exporter": "python",
   "pygments_lexer": "ipython3",
   "version": "3.8.5"
  }
 },
 "nbformat": 4,
 "nbformat_minor": 4
}
