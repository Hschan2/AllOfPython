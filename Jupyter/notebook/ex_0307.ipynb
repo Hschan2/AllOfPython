{
 "cells": [
  {
   "cell_type": "markdown",
   "metadata": {},
   "source": [
    "### 정렬 알고리즘."
   ]
  },
  {
   "cell_type": "code",
   "execution_count": null,
   "metadata": {},
   "outputs": [],
   "source": [
    "from random import shuffle, seed\n",
    "from time import time"
   ]
  },
  {
   "cell_type": "code",
   "execution_count": null,
   "metadata": {},
   "outputs": [],
   "source": [
    "n_data = 10000\n",
    "n_seed = 1234"
   ]
  },
  {
   "cell_type": "code",
   "execution_count": null,
   "metadata": {},
   "outputs": [],
   "source": [
    "def simul_data(my_seed, n):\n",
    "    seed(my_seed)\n",
    "    data = list(range(n))\n",
    "    shuffle(data)\n",
    "    return data"
   ]
  },
  {
   "cell_type": "markdown",
   "metadata": {},
   "source": [
    "#### 선택 정렬 알고리즘."
   ]
  },
  {
   "cell_type": "code",
   "execution_count": null,
   "metadata": {},
   "outputs": [],
   "source": [
    "# 함수 정의.\n",
    "def selection_sort(x):\n",
    "    n= len(x)\n",
    "    for i in range(n-1):              # 처음부터 끝에서 두 번째 위치까지 스캔.\n",
    "        min_idx = i\n",
    "        for j in range(i + 1, n):    # 이후 값들을 스캔함.\n",
    "            if x[j] < x[min_idx]:    # 최소값 발견.\n",
    "                min_idx = j\n",
    "        x[i], x[min_idx] = x[min_idx], x[i]    # 최소값과 현 위치의 값을 교환한다."
   ]
  },
  {
   "cell_type": "code",
   "execution_count": null,
   "metadata": {},
   "outputs": [],
   "source": [
    "# 데이터 생성.\n",
    "my_data = simul_data(n_seed, n_data)\n",
    "print(\"Before: \", my_data[:20])"
   ]
  },
  {
   "cell_type": "code",
   "execution_count": null,
   "metadata": {},
   "outputs": [],
   "source": [
    "# 선택 정렬 실행.\n",
    "start_time = time()\n",
    "selection_sort(my_data)                              \n",
    "end_time = time()\n",
    "time_selection_sort = end_time - start_time          # 소요 시간 측정."
   ]
  },
  {
   "cell_type": "code",
   "execution_count": null,
   "metadata": {},
   "outputs": [],
   "source": [
    "# 정렬 결과 확인.\n",
    "print(\"After: \", my_data[:20])"
   ]
  },
  {
   "cell_type": "code",
   "execution_count": null,
   "metadata": {},
   "outputs": [],
   "source": [
    "# 소요 시간 확인.\n",
    "print(\"Time = {:.3f} seconds\".format(time_selection_sort))"
   ]
  },
  {
   "cell_type": "markdown",
   "metadata": {},
   "source": [
    "#### 삽입 정렬 알고리즘."
   ]
  },
  {
   "cell_type": "code",
   "execution_count": null,
   "metadata": {},
   "outputs": [],
   "source": [
    "# 함수 정의.\n",
    "def insertion_sort(x):\n",
    "    n = len(x)\n",
    "    for i in range(1, n):           # 두 번째 위치부터 끝까지 스캔한다.\n",
    "        j = i                        # j는 현재의 i 부터 감소해 갈 것이다. \n",
    "        temp = x[i]                  # i 위치의 값을 저장해 둔다.\n",
    "        while j > 0 and x[j-1] > temp:   # 리스트의 맨 앞을 도달하지 않은 상태이면서 temp를 이동시킬 위치를 아직 찾지 못한 경우 반복.\n",
    "            x[j] = x[j-1]                 # 리스트의 값을 하나씩 뒤로 밀어낸다. \n",
    "            j = j - 1                # j를 1 감소하며 리스트의 앞으로 나아간다.\n",
    "        x[j] = temp                  # temp 값을 해당 위치에 넣어둔다."
   ]
  },
  {
   "cell_type": "code",
   "execution_count": null,
   "metadata": {},
   "outputs": [],
   "source": [
    "# 데이터 생성.\n",
    "my_data = simul_data(n_seed, n_data)\n",
    "print(\"Before: \", my_data[:20])\n",
    "\n",
    "# 삽입 정렬 실행.\n",
    "start_time = time()\n",
    "insertion_sort(my_data)                              \n",
    "end_time = time()\n",
    "time_insertion_sort = end_time - start_time          # 소요 시간 측정.\n",
    "print(\"After: \", my_data[:20])\n",
    "\n",
    "# 소요 시간 확인.\n",
    "print(\"Time = {:.3f} seconds\".format(time_insertion_sort))"
   ]
  },
  {
   "cell_type": "markdown",
   "metadata": {},
   "source": [
    "#### 병합 정렬 알고리즘."
   ]
  },
  {
   "cell_type": "code",
   "execution_count": null,
   "metadata": {},
   "outputs": [],
   "source": [
    "# 함수 정의.\n",
    "def merge_sort(x):\n",
    "    n = len(x)\n",
    "   \n",
    "    if n <= 1:         # 입력 자료의 길이가 1 이하면 정렬할 필요가 없다.\n",
    "        return\n",
    "    middle = n // 2   # 두 개의 리스트로 쪼갤 기준이 되는 중간 위치.\n",
    "    \n",
    "    left = x[:middle]  # 왼쪽 리스트.\n",
    "    right = x[middle:]  # 오른쪽 리스트.\n",
    "    \n",
    "    merge_sort(left)   # 왼쪽 리스트 재귀 호출로 정렬.\n",
    "    merge_sort(right)  # 오른쪽 리스트 재귀 호출로 정렬.\n",
    "    \n",
    "    # 이제부터는 정렬된 왼쪽 리스트와 오른쪽 리스트를 병합한다.\n",
    "    \n",
    "    i_left = 0\n",
    "    i_right = 0\n",
    "    i_final = 0\n",
    "    \n",
    "    while i_left < len(left) and i_right < len(right): # 한쪽 리스트가 소진될 때까지 반복.\n",
    "        if left[i_left] < right[i_right]:\n",
    "            x[i_final] = left[i_left]\n",
    "            i_left += 1\n",
    "        else:\n",
    "            x[i_final] = right[i_right]\n",
    "            i_right += 1\n",
    "        i_final += 1\n",
    "        \n",
    "    if i_left < len(left):                              # 왼쪽 리스트가 아직 소진되지 않은 경우.\n",
    "        while i_left < len(left):\n",
    "            x[i_final] = left[i_left]\n",
    "            i_left += 1\n",
    "            i_final += 1\n",
    "    else:                                              # 오른쪽 리스트가 아직 소진되지 않은 경우.\n",
    "        while i_right < len(right):\n",
    "            x[i_final] = right[i_right]\n",
    "            i_right += 1\n",
    "            i_final += 1"
   ]
  },
  {
   "cell_type": "code",
   "execution_count": null,
   "metadata": {},
   "outputs": [],
   "source": [
    "# 데이터 생성.\n",
    "my_data = simul_data(n_seed, n_data)\n",
    "print(\"Before: \", my_data[:20])\n",
    "\n",
    "# 삽입 정렬 실행.\n",
    "start_time = time()\n",
    "merge_sort(my_data)                              \n",
    "end_time = time()\n",
    "time_merge_sort = end_time - start_time          # 소요 시간 측정.\n",
    "print(\"After: \", my_data[:20])\n",
    "\n",
    "# 소요 시간 확인.\n",
    "print(\"Time = {:.3f} seconds\".format(time_merge_sort))"
   ]
  },
  {
   "cell_type": "markdown",
   "metadata": {},
   "source": [
    "#### Quick Sort 알고리즘."
   ]
  },
  {
   "cell_type": "code",
   "execution_count": null,
   "metadata": {},
   "outputs": [],
   "source": [
    "# 함수 정의.\n",
    "def quick_sort(x):\n",
    "    \n",
    "    # 보조함수 정의.\n",
    "    def quick_sort_sub(x):\n",
    "        n = len(x)\n",
    "   \n",
    "        if n <= 1:                          # 입력 자료의 길이가 1 이하면 정렬할 필요가 없다.\n",
    "            return x                        # 남아있는 자료를 그대로 반환함.\n",
    "\n",
    "        i_middle = n//2\n",
    "        pivot = x[i_middle]                  # 가운데에서 임의의 pivot을 가져온다.\n",
    "    \n",
    "        left = []\n",
    "        right = []\n",
    "    \n",
    "        my_range = list(range(n))\n",
    "        my_range.pop(i_middle)                          # pivot을 제외한 나머지 구간.\n",
    "    \n",
    "        for i in range(n-1):\n",
    "            if x[i] < pivot:\n",
    "                left.append(x[i])\n",
    "            else:\n",
    "                right.append(x[i])\n",
    "    \n",
    "        return quick_sort_sub(left) + [pivot] + quick_sort_sub(right)    # 재귀호출.\n",
    "    \n",
    "    x[:] = quick_sort_sub(x)                # 정렬된 결과로 입력 리스트 대체."
   ]
  },
  {
   "cell_type": "code",
   "execution_count": null,
   "metadata": {},
   "outputs": [],
   "source": [
    "# 데이터 생성.\n",
    "my_data = simul_data(n_seed, n_data)\n",
    "print(\"Before: \", my_data[:20])\n",
    "\n",
    "# 삽입 정렬 실행.\n",
    "start_time = time()\n",
    "quick_sort(my_data)                              \n",
    "end_time = time()\n",
    "time_quick_sort = end_time - start_time          # 소요 시간 측정.\n",
    "print(\"After: \", my_data[:20])\n",
    "\n",
    "# 소요 시간 확인.\n",
    "print(\"Time = {:.3f} seconds\".format(time_quick_sort))"
   ]
  },
  {
   "cell_type": "markdown",
   "metadata": {},
   "source": [
    "#### Bubble Sort 알고리즘."
   ]
  },
  {
   "cell_type": "code",
   "execution_count": null,
   "metadata": {},
   "outputs": [],
   "source": [
    "# 함수 정의.\n",
    "def bubble_sort(x):\n",
    "    n = len(x)\n",
    "\n",
    "    b_pass = True\n",
    "    while b_pass:\n",
    "        b_pass = False\n",
    "        for i in range(n-1):\n",
    "            if x[i] > x[i+1]:          # 인접한 두개의 값을 비교해서 필요하다면 위치 교환. \n",
    "                x[i], x[i+1] = x[i+1], x[i]\n",
    "                b_pass = True"
   ]
  },
  {
   "cell_type": "code",
   "execution_count": null,
   "metadata": {},
   "outputs": [],
   "source": [
    "# 데이터 생성.\n",
    "my_data = simul_data(n_seed, n_data)\n",
    "print(\"Before: \", my_data[:20])\n",
    "\n",
    "# 삽입 정렬 실행.\n",
    "start_time = time()\n",
    "bubble_sort(my_data)                              \n",
    "end_time = time()\n",
    "time_bubble_sort = end_time - start_time          # 소요 시간 측정.\n",
    "print(\"After: \", my_data[:20])\n",
    "\n",
    "# 소요 시간 확인.\n",
    "print(\"Time = {:.3f} seconds\".format(time_bubble_sort))"
   ]
  },
  {
   "cell_type": "markdown",
   "metadata": {},
   "source": [
    "#### 결론: 정렬에 소요된 시간 비교."
   ]
  },
  {
   "cell_type": "code",
   "execution_count": null,
   "metadata": {},
   "outputs": [],
   "source": [
    "print(\"Selection Sort Time = {:.3f} seconds\".format(time_selection_sort))\n",
    "print(\"Insertion Sort Time = {:.3f} seconds\".format(time_insertion_sort))\n",
    "print(\"Merge Sort Time     = {:.3f} seconds\".format(time_merge_sort))\n",
    "print(\"Quick Sort Time     = {:.3f} seconds\".format(time_quick_sort))\n",
    "print(\"Bubble Sort Time    = {:.3f} seconds\".format(time_bubble_sort))"
   ]
  },
  {
   "cell_type": "code",
   "execution_count": null,
   "metadata": {},
   "outputs": [],
   "source": []
  }
 ],
 "metadata": {
  "kernelspec": {
   "display_name": "Python 3",
   "language": "python",
   "name": "python3"
  },
  "language_info": {
   "codemirror_mode": {
    "name": "ipython",
    "version": 3
   },
   "file_extension": ".py",
   "mimetype": "text/x-python",
   "name": "python",
   "nbconvert_exporter": "python",
   "pygments_lexer": "ipython3",
   "version": "3.8.5"
  }
 },
 "nbformat": 4,
 "nbformat_minor": 4
}
