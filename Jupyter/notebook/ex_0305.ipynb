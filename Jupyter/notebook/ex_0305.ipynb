{
 "cells": [
  {
   "cell_type": "markdown",
   "metadata": {},
   "source": [
    "### 이진 검색알고리즘을 적용한 내재변동성 계산."
   ]
  },
  {
   "cell_type": "code",
   "execution_count": null,
   "metadata": {},
   "outputs": [],
   "source": [
    "import numpy as np\n",
    "import scipy.stats as st\n",
    "import matplotlib.pyplot as plt\n",
    "import pandas as pd"
   ]
  },
  {
   "cell_type": "markdown",
   "metadata": {},
   "source": [
    "#### 필요한 함수를 정의한다."
   ]
  },
  {
   "cell_type": "markdown",
   "metadata": {},
   "source": [
    "- S       = 기초자산의 가격.\n",
    "- K       = 행사가격.\n",
    "- Tmt     = T - t = 잔여기간 (1년 단위).  \n",
    "- r       = 기준 이자율.\n",
    "- sigma   = 변동성."
   ]
  },
  {
   "cell_type": "code",
   "execution_count": null,
   "metadata": {},
   "outputs": [],
   "source": [
    "# 보조 함수.\n",
    "def d1(S, K, Tmt, r, sigma):\n",
    "    return (np.log(S / K) + (r + 0.5 * sigma**2) * Tmt) / (sigma * (np.sqrt(Tmt)))\n",
    "\n",
    "# 보조 함수.\n",
    "def d2(S, K, Tmt, r, sigma):\n",
    "    return (np.log(S / K) + (r - 0.5 * sigma**2) * Tmt) / (sigma * (np.sqrt(Tmt)))\n",
    "\n",
    "# 콜옵션의 가격을 계산해 주는 함수.\n",
    "def CallOption(S, K, Tmt, r, sigma):\n",
    "    return S * st.norm.cdf(d1(S, K, Tmt, r, sigma)) - K * np.exp(-r * Tmt) * st.norm.cdf(d2(S, K, Tmt, r, sigma))\n",
    "\n",
    "# 풋옵션의 가격을 계산해 주는 함수.\n",
    "def PutOption(S, K, Tmt, r, sigma):\n",
    "    return -S * st.norm.cdf(-d1(S, K, Tmt, r, sigma)) + K * np.exp(-r * Tmt) * st.norm.cdf(-d2(S, K, Tmt, r, sigma)) "
   ]
  },
  {
   "cell_type": "code",
   "execution_count": null,
   "metadata": {},
   "outputs": [],
   "source": [
    "# 이진 검색 알고리즘을 적용하여 계산한 콜옵션 내재 변동성.\n",
    "def IVCall(C, S, K, Tmt, r):\n",
    "    low = 0.0001                                    # 임의의 하한 초기값.\n",
    "    high = 1                                        # 임의의 상한 초기값.\n",
    "    nRepeat = 50                                    # 반복 회수.\n",
    "    for i in range(nRepeat):\n",
    "        mid = (low + high) / 2                      # 하한과 상한의 중간지점.\n",
    "        if (CallOption(S, K, Tmt, r, mid) > C): \n",
    "            high = mid\n",
    "        else:\n",
    "            low = mid     \n",
    "    return mid\n",
    "\n",
    "# 이진 검색 알고리즘을 적용하여 계산한 풋옵션 내재 변동성.\n",
    "def IVPut(P, S, K, Tmt, r):\n",
    "    low = 0.0001                                    # 임의의 하한 초기값.\n",
    "    high = 1                                        # 임의의 상한 초기값.\n",
    "    nRepeat = 50                                    # 반복 회수.\n",
    "    for i in range(nRepeat):\n",
    "        mid = (low + high) / 2                      # 하한과 상한의 중간지점.\n",
    "        if (PutOption(S, K, Tmt, r, mid) > P): \n",
    "            high = mid\n",
    "        else:\n",
    "            low = mid     \n",
    "    return mid"
   ]
  },
  {
   "cell_type": "markdown",
   "metadata": {},
   "source": [
    "#### 실행해서 테스트 해 본다."
   ]
  },
  {
   "cell_type": "code",
   "execution_count": null,
   "metadata": {},
   "outputs": [],
   "source": [
    "# 임의로 설정.\n",
    "K = 100                   # 행사가격.\n",
    "S = 100                   # 기초자산의 가격.\n",
    "Tmt = 0.5                 # T - t : 잔여기간 (1년 단위).\n",
    "r = 0.03                  # 기준 이자율. "
   ]
  },
  {
   "cell_type": "code",
   "execution_count": null,
   "metadata": {},
   "outputs": [],
   "source": [
    "# 콜옵션 내재 변동성 계산.\n",
    "# C = 콜옵션의 시장 가격.\n",
    "print(IVCall(3, S, K, Tmt, r))     # C = 3 일 때. \n",
    "print(IVCall(5, S, K, Tmt, r))     # C = 5 일 때.\n",
    "print(IVCall(8, S, K, Tmt, r))     # C = 8 일 때.\n",
    "print(IVCall(10, S, K, Tmt, r))    # C = 10 일 때."
   ]
  },
  {
   "cell_type": "code",
   "execution_count": null,
   "metadata": {},
   "outputs": [],
   "source": [
    "# 풋옵션 내재 변동성 계산.\n",
    "# P = 풋옵션의 시장 가격.\n",
    "print(IVPut(3, S, K, Tmt, r))     # P = 3 일 때.\n",
    "print(IVPut(5, S, K, Tmt, r))     # P = 5 일 때.\n",
    "print(IVPut(8, S, K, Tmt, r))     # P = 8 일 때.\n",
    "print(IVPut(10, S, K, Tmt, r))    # P = 10 일 때."
   ]
  },
  {
   "cell_type": "code",
   "execution_count": null,
   "metadata": {},
   "outputs": [],
   "source": []
  }
 ],
 "metadata": {
  "kernelspec": {
   "display_name": "Python 3",
   "language": "python",
   "name": "python3"
  },
  "language_info": {
   "codemirror_mode": {
    "name": "ipython",
    "version": 3
   },
   "file_extension": ".py",
   "mimetype": "text/x-python",
   "name": "python",
   "nbconvert_exporter": "python",
   "pygments_lexer": "ipython3",
   "version": "3.8.5"
  }
 },
 "nbformat": 4,
 "nbformat_minor": 2
}
