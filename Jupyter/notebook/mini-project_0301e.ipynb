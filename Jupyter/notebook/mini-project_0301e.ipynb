{
 "cells": [
  {
   "cell_type": "markdown",
   "metadata": {},
   "source": [
    "### 회문 (palindrome) 찾아내기."
   ]
  },
  {
   "cell_type": "markdown",
   "metadata": {},
   "source": [
    "한글 회문: <br>\n",
    "- 역삼역\n",
    "- 기러기\n",
    "- 일요일\n",
    "- 복불복\n",
    "- 사진사\n",
    "- 다가가다\n",
    "- 다했냐? 했다!\n",
    "- 다시 합창 합시다"
   ]
  },
  {
   "cell_type": "markdown",
   "metadata": {},
   "source": [
    "영문 회문: <br>\n",
    "- mom\n",
    "- wow\n",
    "- noon\n",
    "- level\n",
    "- radar\n",
    "- kayak\n",
    "- racecar\n",
    "- God's dog\n",
    "- Madam, I'm Adam"
   ]
  },
  {
   "cell_type": "markdown",
   "metadata": {},
   "source": [
    "과제: <br>\n",
    "- 문자열이 회문인지 아닌지 판단하여 회문이면 True 아니면 False를 결과로 알려주는 알고리즘을 만들어 보아요.<br>\n",
    "- 국문 또는 영문 (대소문자) 입력하여도 다 인식할 수 있도록 만들어 보아요. <br>"
   ]
  },
  {
   "cell_type": "code",
   "execution_count": 2,
   "metadata": {},
   "outputs": [],
   "source": [
    "def palindrome(d):\n",
    "#\n",
    "#\n",
    "#   본인의 코드를 여기에 작성하세요.\n",
    "#\n",
    "#"
   ]
  },
  {
   "cell_type": "code",
   "execution_count": 7,
   "metadata": {},
   "outputs": [
    {
     "data": {
      "text/plain": [
       "True"
      ]
     },
     "execution_count": 7,
     "metadata": {},
     "output_type": "execute_result"
    }
   ],
   "source": [
    "palindrome(\"다했냐? 했다!\")"
   ]
  },
  {
   "cell_type": "code",
   "execution_count": 10,
   "metadata": {},
   "outputs": [
    {
     "data": {
      "text/plain": [
       "True"
      ]
     },
     "execution_count": 10,
     "metadata": {},
     "output_type": "execute_result"
    }
   ],
   "source": [
    "palindrome(\"Never odd or even\")"
   ]
  },
  {
   "cell_type": "code",
   "execution_count": 11,
   "metadata": {},
   "outputs": [
    {
     "data": {
      "text/plain": [
       "False"
      ]
     },
     "execution_count": 11,
     "metadata": {},
     "output_type": "execute_result"
    }
   ],
   "source": [
    "palindrome(\"Hello\")"
   ]
  }
 ],
 "metadata": {
  "kernelspec": {
   "display_name": "Python 3",
   "language": "python",
   "name": "python3"
  },
  "language_info": {
   "codemirror_mode": {
    "name": "ipython",
    "version": 3
   },
   "file_extension": ".py",
   "mimetype": "text/x-python",
   "name": "python",
   "nbconvert_exporter": "python",
   "pygments_lexer": "ipython3",
   "version": "3.8.5"
  }
 },
 "nbformat": 4,
 "nbformat_minor": 2
}
